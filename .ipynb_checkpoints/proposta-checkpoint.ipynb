{
 "cells": [
  {
   "cell_type": "markdown",
   "metadata": {},
   "source": [
    " # Nanodegree Engenheiro de Machine Learning\n",
    "------\n",
    "## Proposta de projeto final\n",
    "------\n",
    "Leonardo Chinem Kameya  \n",
    "13 de setembro de 2018\n",
    "  \n",
    "## Proposta\n",
    "------\n",
    "### Histórico do assunto\n",
    "\n",
    "\n",
    "As moedas digitais vem garantindo cada dia mais espaço na sociedade atual e há muita especulação sobre o assunto. Grandes corporações já estudam a possibilidade da utilização dessas moedas para transações futuras e nas facilidades que essa nova tecnologia denominada Blockchain pode trazer para as empresas atuais.  \n",
    "Bitcoin é a moeda que pode ser usada para realizar pagamentos de forma inovadora, sem a intervenção de bancos centrais e movimenta um mercado de bilhões de dólares. Já existem milhares de empresas e pessoas que aceitam Bitcoins como meio de pagamento.\n",
    "\n",
    "### Descrição do problema\n",
    "\n",
    "A volatilidade é uma das principais características no trade de Bitcoins. Variações de 5% em um dia são muito comuns. Operar com Bitcoins é assumir um grande risco. As possibilidades de perda existem, mas as de ganho também são altas. Existem vários elementos que influenciam a cotação do bitcoin, podemos citar dentre eles a regulamentação por parte dos governos e a aceitação da moeda e influência da mídia.\n",
    "\n",
    "### Conjunto de dados e entradas\n",
    "\n",
    "O conjunto de dados utilizado é disponibilizado abertamente através de uma API do Quandl. Os dados são diários e armazenam os valores de abertura, fechamento, volume do valor do Bitcoin dentro da plataforma Mercado Bitcoin, na qual são realizadas transações de compra e venda de Bitcoins em Reais.\n",
    "\n",
    "### Descrição da solução\n",
    "\n",
    "Para apoiar a tomada de decisão na compra e venda de bitcoin será construído um modelo que irá predizer o preço da moeda para os próximos 30 dias. O modelo será implementado utilizando as bibliotecas scikit.learn em python, este modelo será exportado no formato CoreML e incluído em um aplicativo desenvolvido na linguagem swift da plataforma iOS.\n",
    "\n",
    "### Modelo de referência (benchmark)\n",
    "O modelo de referência para este projeto é a regressão linear que tem provado ser satisfatório em modelagem de séries temporais.\n",
    "\n",
    "### Métricas de avaliação\n",
    "\n",
    "A métrica escolhida será o R² e o cálculo da média dos erros do modelo ao quadrado (mean-squared-error). O valor de R² pode informar quanto a variação da variável dependente pode ser explicada pela variação das variáveis independentes. O erro quadrático médio pode dizer qual o desvio padrão da previsão do valor correto, e pode ser comparado com a média do valor correto para verificar se o desvio é grande ou pequeno. \n",
    "\n",
    "### Design do projeto\n",
    "\n",
    "Escolhemos a variável Weighted price como a varíavel dependente.\n",
    "Primeiramente, importaremos os dados através da API do Quandl, especificamente a API do Mercado Bitcoin com os dados diários desde 2011. Será removido todos os dados em branco que a API retorna e com os dados válidos iremos normalizar os dados através da biblioteca preprocessing do sklearn.  \n",
    "Os dados dos últimos 30 dias para previsão serão excluídos do conjunto X.\n",
    "Dividiremos o conjunto para treino e teste. O algoritmo LinearRegression será aplicado para os dados de treino e a previsão será executada para os dados de 30 dias que foram removidos no passo anterior. Calcularemos a pontuação r² para avaliarmos o nosso modelo.\n",
    "Após validado o modelo, este será exportado no formato CoreML, para ser incluído em um aplicativo em iOS.\n",
    "Será desenvolvido um aplicativo na linguagem Swift da plataforma iOS que utilizará o modelo que geramos em Python para exibir qual a previsão para os próximos 30 dias do preço do Bitcoin.\n",
    "\n",
    "### Implementações futuras\n",
    "<div style=\"text-align: justify\">\n",
    "Sabemos que inúmeros fatores influenciam para a oscilação do preço do Bitcoin. O nosso modelo foi construído de maneira simples e que leva em consideração apenas os valores anteriores do Bitcoin. Será implementado rotinas de verificação de notícias da mídia nacional e internacional a respeito do Bitcoin, na qual será aplicado o conceito de Análise Sentimental, para classificar o cenário atual e futuro da moeda como positivo ou negativo. Esses valores serão incluídos como features no nosso modelo para serem testados e pontuados.\n",
    "\n",
    "\n",
    "  "
   ]
  }
 ],
 "metadata": {
  "kernelspec": {
   "display_name": "Python 2",
   "language": "python",
   "name": "python2"
  },
  "language_info": {
   "codemirror_mode": {
    "name": "ipython",
    "version": 2
   },
   "file_extension": ".py",
   "mimetype": "text/x-python",
   "name": "python",
   "nbconvert_exporter": "python",
   "pygments_lexer": "ipython2",
   "version": "2.7.14"
  }
 },
 "nbformat": 4,
 "nbformat_minor": 2
}
