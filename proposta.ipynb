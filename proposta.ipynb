{
 "cells": [
  {
   "cell_type": "markdown",
   "metadata": {},
   "source": [
    " # Nanodegree Engenheiro de Machine Learning\n",
    "------\n",
    "## Proposta de projeto final\n",
    "------\n",
    "Leonardo Chinem Kameya  \n",
    "13 de setembro de 2018\n",
    "  \n",
    "## Proposta\n",
    "------\n",
    "### Histórico do assunto\n",
    "\n",
    "As moedas digitais vem garantindo cada dia mais espaço na sociedade atual e há muita especulação sobre o assunto. Grandes corporações já estudam a possibilidade da utilização dessas moedas para transações futuras e nas ameaças que essa nova tecnologia denominada Blockchain pode trazer para as empresas atuais. (Escrever dois paragrafos)\n",
    "### Descrição do problema\n",
    "\n",
    "Os preços do Bitcoin possuem uma volatilidade muito grande e a amplitude de alteração nesse valor também é muito grande, o que inclui este investimento em alto risco. O mercado ainda não é consolidado e estabilizado com essa nova tecnologia, possibilitando grandes manobras de determinados detentores da moeda a agirem como \"baleias\" no mercado. (Escrever 1 paragrafo)\n",
    "\n",
    "### Conjunto de dados e entradas\n",
    "O conjunto de dados utilizado é disponibilizado abertamente através de uma API do Quandl. Os dados são diários e armazenam os valores de abertura, fechamento, volume do valor do Bitcoin dentro da plataforma Mercado Bitcoin, na qual são realizadas transações de compra e venda de Bitcoins em Reais.\n",
    "\n",
    "### Descrição da solução\n",
    "Será implementado um modelo de previsão do preço do Bitcoin, na qual poderá ser escolhido a faixa de dias para a previsao realizada. Será implementada a Regressão Linear para explicar a variância dos dados coletados. 1 paragrafo\n",
    "\n",
    "### Modelo de referência (benchmark)\n",
    "2 paragrafos. Pegar um modelo existente e comparar com o que sera feito\n",
    "\n",
    "### Métricas de avaliação\n",
    "2 paragrafos. Porpor uma métrica de avaliaçao para quantificar o desempenho tanto do modelo de benchmark como do modelo de solução apresentados. As métricas de avaliação proposta deve ser adequada, considerando o contexto dos dados, da definição do problema e da solução pretendida. Descreva como as métricas de avaliação podem ser obtidas e forneça um eexemplo de representacao matematia para ela (se aplicavel). Métricas de avaliaçao complexas devem ser claramente definidas e quantificaveis.\n",
    "\n",
    "### Design do projeto\n",
    "Sintetize um fluxo de trabalho teórico para obtenção de uma solução para o problema em questao. Discuta detalhadamente quais estrategias voce considera utilizar, quais analises de dados podem ser necassias de antemao e quais algoritmos serao considerados na sua implementacao. O fluxo de trabalho e discussao propostos devem estar alinhados com as secoes anteriores. Adicionalmente, voce podera incluir pequenas visualizacoes, pseudocodigo ou diagramas para auxiliar na descricao do design do projeto, mas nao e obrigatorio. A discussao deve seguir claramente o fluxo de trabalho proposto para o projeto de conclusao. 1 pagina\n",
    "\n",
    "\n"
   ]
  },
  {
   "cell_type": "markdown",
   "metadata": {},
   "source": []
  }
 ],
 "metadata": {
  "kernelspec": {
   "display_name": "Python 2",
   "language": "python",
   "name": "python2"
  },
  "language_info": {
   "codemirror_mode": {
    "name": "ipython",
    "version": 2
   },
   "file_extension": ".py",
   "mimetype": "text/x-python",
   "name": "python",
   "nbconvert_exporter": "python",
   "pygments_lexer": "ipython2",
   "version": "2.7.14"
  }
 },
 "nbformat": 4,
 "nbformat_minor": 2
}
